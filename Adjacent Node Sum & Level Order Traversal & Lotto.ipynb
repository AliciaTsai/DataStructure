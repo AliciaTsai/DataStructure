{
 "cells": [
  {
   "cell_type": "markdown",
   "metadata": {},
   "source": [
    "### Implement adjacent node sum"
   ]
  },
  {
   "cell_type": "code",
   "execution_count": 1,
   "metadata": {
    "collapsed": false,
    "deletable": true,
    "editable": true
   },
   "outputs": [],
   "source": [
    "### Implement adjacent node sum ###\n",
    "\n",
    "class AdjacencyList:\n",
    "    \n",
    "    def __init__(self):\n",
    "        self.adj_dict = {}\n",
    "        \n",
    "    def add(self, u, v):\n",
    "        if u not in self.adj_dict:\n",
    "            self.adj_dict[u] = []\n",
    "            self.adj_dict[u].append(v)\n",
    "        else:\n",
    "            self.adj_dict[u].append(v)\n",
    "            \n",
    "        if v not in self.adj_dict:\n",
    "            self.adj_dict[v] = []\n",
    "            self.adj_dict[v].append(u)\n",
    "        else:\n",
    "            self.adj_dict[v].append(u)\n",
    "        \n",
    "    def get_weight(self, e):\n",
    "        weight = 0\n",
    "        for i in self.adj_dict[e]:\n",
    "            weight += i\n",
    "        return weight"
   ]
  },
  {
   "cell_type": "markdown",
   "metadata": {},
   "source": [
    "### (optional) get input and return node sum"
   ]
  },
  {
   "cell_type": "markdown",
   "metadata": {},
   "source": [
    "vertex, edge, Q = [int(i) for i in input().split()]\n",
    "adjacent = AdjacencyList()\n",
    "node_sum = 0\n",
    "\n",
    "for i in range(edge):\n",
    "    u, v = [int(i) for i in input().split()]\n",
    "    adjacent.add(u, v)\n",
    "\n",
    "for j in range(Q):\n",
    "    e = int(input())\n",
    "    node_sum += adjacent.get_weight(e)\n",
    "    \n",
    "print(node_sum)"
   ]
  },
  {
   "cell_type": "markdown",
   "metadata": {},
   "source": [
    "### Implement level order traversal"
   ]
  },
  {
   "cell_type": "code",
   "execution_count": 2,
   "metadata": {
    "collapsed": false,
    "deletable": true,
    "editable": true,
    "scrolled": true
   },
   "outputs": [],
   "source": [
    "### Implement level order traversal ###\n",
    "\n",
    "class AdjacencyList:\n",
    "    \n",
    "    def __init__(self):\n",
    "        self.adj_dict = {}\n",
    "        \n",
    "    def add(self, u, v):\n",
    "        if u not in self.adj_dict:\n",
    "            self.adj_dict[u] = []\n",
    "            self.adj_dict[u].append(v)\n",
    "        else:\n",
    "            self.adj_dict[u].append(v)\n",
    "            \n",
    "        if v not in self.adj_dict:\n",
    "            self.adj_dict[v] = []\n",
    "            self.adj_dict[v].append(u)\n",
    "        else:\n",
    "            self.adj_dict[v].append(u)\n",
    "        \n",
    "    def get_element(self, e):\n",
    "        element = []\n",
    "        for i in self.adj_dict[e]:\n",
    "            element.append(i)\n",
    "        return element\n",
    "    \n",
    "    def level_order(self, root):\n",
    "        level_order_list = []\n",
    "        queue = []\n",
    "        queue_check = []\n",
    "        level_order_list.append(root)\n",
    "        queue.append(root)\n",
    "        while queue != []:\n",
    "            queue_check = queue.copy()\n",
    "            for i in queue_check:\n",
    "                print('get_dict ' + str(i))\n",
    "                print(self.adj_dict[i])\n",
    "                children_sort = sorted(self.adj_dict[i])\n",
    "                print('children sort:')\n",
    "                print(children_sort)\n",
    "                while children_sort != []:\n",
    "                    min_child = children_sort[0]\n",
    "                    print('min_child')\n",
    "                    print(min_child)\n",
    "                    if min_child not in level_order_list:\n",
    "                        level_order_list.append(min_child)\n",
    "                        queue.append(min_child)\n",
    "                    children_sort.pop(0)           # use index to pop or value to pop?\n",
    "                queue.pop(0)\n",
    "                print('queue:')\n",
    "                print(queue)\n",
    "                print('level_order_list')\n",
    "                print(level_order_list)\n",
    "        \n",
    "        return level_order_list"
   ]
  },
  {
   "cell_type": "markdown",
   "metadata": {},
   "source": [
    "### (optional) get input and return level order traversal result"
   ]
  },
  {
   "cell_type": "code",
   "execution_count": null,
   "metadata": {
    "collapsed": true
   },
   "outputs": [],
   "source": [
    "\"\"\"    \n",
    "adjacent = AdjacencyList()\n",
    "adjacent.add(1,5)\n",
    "adjacent.add(5,3)\n",
    "adjacent.add(4,5)\n",
    "adjacent.add(2,1)\n",
    "adjacent.add(4,6)\n",
    "print(adjacent.adj_dict)\n",
    "adjacent.level_order(5)\n",
    "\"\"\"\n",
    "\n",
    "Q = int(input())\n",
    "output = 0\n",
    "for i in range(Q):\n",
    "    node, root = [int(j) for j in input().split()]\n",
    "    adjacent = AdjacencyList()\n",
    "    for k in range(node-1):\n",
    "        u, v = [int(l) for l in input().split()]\n",
    "        adjacent.add(u, v)\n",
    "    \n",
    "    print(adjacent.adj_dict)\n",
    "    level_order_list = adjacent.level_order(root)\n",
    "    output += level_order_list[-1]\n",
    "\n",
    "print(output)"
   ]
  }
 ],
 "metadata": {
  "kernelspec": {
   "display_name": "Python 3",
   "language": "python",
   "name": "python3"
  },
  "language_info": {
   "codemirror_mode": {
    "name": "ipython",
    "version": 3
   },
   "file_extension": ".py",
   "mimetype": "text/x-python",
   "name": "python",
   "nbconvert_exporter": "python",
   "pygments_lexer": "ipython3",
   "version": "3.6.0"
  }
 },
 "nbformat": 4,
 "nbformat_minor": 2
}
